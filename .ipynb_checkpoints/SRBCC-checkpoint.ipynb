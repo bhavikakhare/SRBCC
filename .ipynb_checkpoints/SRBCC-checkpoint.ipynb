{
 "cells": [
  {
   "cell_type": "code",
   "execution_count": 31,
   "id": "endless-intermediate",
   "metadata": {},
   "outputs": [
    {
     "name": "stdout",
     "output_type": "stream",
     "text": [
      "[-sqrt(401), sqrt(401), -sqrt(401), sqrt(401), -sqrt(885), sqrt(885), -sqrt(885), sqrt(885), -sqrt(485), sqrt(485), -sqrt(485), sqrt(485)]\n"
     ]
    }
   ],
   "source": [
    "# with general position assumption\n",
    "\n",
    "import numpy as np\n",
    "from math import ceil\n",
    "from sympy import Symbol , Eq , solve , sqrt\n",
    "\n",
    "p1 = np.array([20,1])\n",
    "p2 = np.array([22,1])\n",
    "# p3 = np.array([1,1])\n",
    "P = np.array([p1,p2])\n",
    "d = 2\n",
    "# automate calculation\n",
    "n = 2 \n",
    "\n",
    "# sort P by x axis\n",
    "np.sort(P,0)\n",
    "\n",
    "p = 1\n",
    "q = 1\n",
    "a = 2\n",
    "\n",
    "# what to do if a is zero\n",
    "\n",
    "def candidateR() :\n",
    "    R = list()\n",
    "    t_range = math.ceil(( P[-1][0] - P[0][0] )/a)\n",
    "    r = Symbol(\"r\")\n",
    "    for i in range(n) :\n",
    "        for k in range(n) :\n",
    "            for t in range(t_range) :\n",
    "                for sign_1 in (-1,1) :\n",
    "                    for sign_2 in (-1,1) :\n",
    "                        rhs = P[k][0] - P[i][0] + t*a\n",
    "                        lhs = sign_1*sqrt( r**2 - P[i][0]**2 - P[i][1]**2 ) + sign_2*sqrt( r**2 - P[k][0]**2 - P[k][1]**2 ) \n",
    "                        R += solve( Eq( lhs , rhs ) ) \n",
    "    print(R)\n",
    "    \n",
    "def main() :\n",
    "    candidateR()\n",
    "    \n",
    "if __name__==\"__main__\":\n",
    "    main()"
   ]
  },
  {
   "cell_type": "code",
   "execution_count": null,
   "id": "delayed-employee",
   "metadata": {},
   "outputs": [],
   "source": []
  }
 ],
 "metadata": {
  "kernelspec": {
   "display_name": "Python 3",
   "language": "python",
   "name": "python3"
  },
  "language_info": {
   "codemirror_mode": {
    "name": "ipython",
    "version": 3
   },
   "file_extension": ".py",
   "mimetype": "text/x-python",
   "name": "python",
   "nbconvert_exporter": "python",
   "pygments_lexer": "ipython3",
   "version": "3.7.9"
  }
 },
 "nbformat": 4,
 "nbformat_minor": 5
}
