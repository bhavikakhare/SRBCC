{
 "cells": [
  {
   "cell_type": "code",
   "execution_count": 1,
   "id": "endless-intermediate",
   "metadata": {},
   "outputs": [],
   "source": [
    "# with general position assumption\n",
    "# assumes no negative x-axis and no points lie on it\n",
    "\n",
    "import numpy as np\n",
    "# from math import ceil\n",
    "import math as math\n",
    "from sympy import Symbol , Eq , solve , sqrt , N\n",
    "\n",
    "# p1 = np.array([20,1])\n",
    "# p2 = np.array([21,1])s\n",
    "p1 = np.array([12,3])\n",
    "p2 = np.array([6,1])\n",
    "p3 = np.array([1,1])\n",
    "P = np.array([p1,p2])\n",
    "d = P.shape[1]\n",
    "n = P.shape[0]\n",
    "\n",
    "np.sort(P,0)\n",
    "\n",
    "p = 3\n",
    "q = 2\n",
    "a = 2\n",
    "\n",
    "\n",
    "def candidateR() :\n",
    "    R = list()\n",
    "    \n",
    "    for i in range(n) :\n",
    "        for k in range(n) :\n",
    "            for t in range(p+q) :\n",
    "                for sign_1 in (-1,1) :\n",
    "                    for sign_2 in (-1,1) :\n",
    "                        r = Symbol( \"r\" , positive=True )\n",
    "                        rhs = P[k][0] - P[i][0] + t*a\n",
    "                        lhs = sign_1*sqrt( r**2 - P[i][1]**2 ) + sign_2*sqrt( r**2 - P[k][1]**2 ) \n",
    "                        R_temp = solve( Eq( lhs , rhs ) ) \n",
    "                        R += R_temp\n",
    "    R = set(R)\n",
    "    \n",
    "    intervals_r = dict()\n",
    "    for r in R :\n",
    "        for pt in P :\n",
    "            if(r>pt[1]) :\n",
    "                interval = [ pt[0] - math.sqrt(r*r-pt[1]*pt[1]) , pt[0] + math.sqrt(r*r-pt[1]*pt[1]) ]\n",
    "                if r in intervals_r :\n",
    "                    intervals_r.get(r).append(interval)\n",
    "                else :\n",
    "                    intervals_r[r] = [interval]\n",
    "                \n",
    "    print(intervals_r)\n",
    "    return intervals_r\n",
    "   \n"
   ]
  },
  {
   "cell_type": "code",
   "execution_count": null,
   "id": "innocent-employment",
   "metadata": {},
   "outputs": [],
   "source": []
  },
  {
   "cell_type": "code",
   "execution_count": 2,
   "id": "compact-commerce",
   "metadata": {},
   "outputs": [
    {
     "name": "stdout",
     "output_type": "stream",
     "text": [
      "{sqrt(130)/3: [[9.666666666666666, 14.333333333333334], [2.3333333333333335, 9.666666666666666]], 3: [[3.1715728752538097, 8.82842712474619]], sqrt(17): [[9.17157287525381, 14.82842712474619], [2.0, 10.0]], 5: [[8.0, 16.0], [1.1010205144336442, 10.898979485566356]], sqrt(13): [[10.0, 14.0], [2.5358983848622456, 9.464101615137753]], 5*sqrt(106)/7: [[5.285714285714286, 18.714285714285715], [-1.2857142857142856, 13.285714285714285]], 3*sqrt(2): [[9.0, 15.0], [1.8768943743823394, 10.123105625617661]], sqrt(5): [[4.0, 8.0]], sqrt(754)/5: [[7.4, 16.6], [0.5999999999999996, 11.4]], sqrt(10): [[11.0, 13.0], [3.0, 9.0]], sqrt(370)/3: [[6.333333333333333, 17.666666666666668], [-0.3333333333333339, 12.333333333333334]], sqrt(2): [[5.0, 7.0]], sqrt(85)/2: [[8.5, 15.5], [1.5, 10.5]]}\n"
     ]
    },
    {
     "ename": "GraphicsError",
     "evalue": "getMouse in closed window",
     "output_type": "error",
     "traceback": [
      "\u001b[1;31m---------------------------------------------------------------------------\u001b[0m",
      "\u001b[1;31mGraphicsError\u001b[0m                             Traceback (most recent call last)",
      "\u001b[1;32m<ipython-input-2-f5ce5bc933f5>\u001b[0m in \u001b[0;36m<module>\u001b[1;34m\u001b[0m\n\u001b[0;32m     36\u001b[0m \u001b[1;33m\u001b[0m\u001b[0m\n\u001b[0;32m     37\u001b[0m \u001b[1;32mif\u001b[0m \u001b[0m__name__\u001b[0m\u001b[1;33m==\u001b[0m\u001b[1;34m\"__main__\"\u001b[0m\u001b[1;33m:\u001b[0m\u001b[1;33m\u001b[0m\u001b[1;33m\u001b[0m\u001b[0m\n\u001b[1;32m---> 38\u001b[1;33m     \u001b[0mmain\u001b[0m\u001b[1;33m(\u001b[0m\u001b[1;33m)\u001b[0m\u001b[1;33m\u001b[0m\u001b[1;33m\u001b[0m\u001b[0m\n\u001b[0m",
      "\u001b[1;32m<ipython-input-2-f5ce5bc933f5>\u001b[0m in \u001b[0;36mmain\u001b[1;34m()\u001b[0m\n\u001b[0;32m     29\u001b[0m             \u001b[0mcircle\u001b[0m\u001b[1;33m.\u001b[0m\u001b[0mdraw\u001b[0m\u001b[1;33m(\u001b[0m\u001b[0mwin\u001b[0m\u001b[1;33m)\u001b[0m\u001b[1;33m\u001b[0m\u001b[1;33m\u001b[0m\u001b[0m\n\u001b[0;32m     30\u001b[0m             \u001b[0mcircles\u001b[0m\u001b[1;33m.\u001b[0m\u001b[0mappend\u001b[0m\u001b[1;33m(\u001b[0m\u001b[0mcircle\u001b[0m\u001b[1;33m)\u001b[0m\u001b[1;33m\u001b[0m\u001b[1;33m\u001b[0m\u001b[0m\n\u001b[1;32m---> 31\u001b[1;33m         \u001b[0mwin\u001b[0m\u001b[1;33m.\u001b[0m\u001b[0mgetMouse\u001b[0m\u001b[1;33m(\u001b[0m\u001b[1;33m)\u001b[0m\u001b[1;33m\u001b[0m\u001b[1;33m\u001b[0m\u001b[0m\n\u001b[0m\u001b[0;32m     32\u001b[0m         \u001b[1;32mfor\u001b[0m \u001b[0mc\u001b[0m \u001b[1;32min\u001b[0m \u001b[0mcircles\u001b[0m \u001b[1;33m:\u001b[0m\u001b[1;33m\u001b[0m\u001b[1;33m\u001b[0m\u001b[0m\n\u001b[0;32m     33\u001b[0m             \u001b[0mc\u001b[0m\u001b[1;33m.\u001b[0m\u001b[0mundraw\u001b[0m\u001b[1;33m(\u001b[0m\u001b[1;33m)\u001b[0m\u001b[1;33m\u001b[0m\u001b[1;33m\u001b[0m\u001b[0m\n",
      "\u001b[1;32m~\\Desktop\\MS_thesis_&_project\\project\\graphics.py\u001b[0m in \u001b[0;36mgetMouse\u001b[1;34m(self)\u001b[0m\n\u001b[0;32m    314\u001b[0m         \u001b[1;32mwhile\u001b[0m \u001b[0mself\u001b[0m\u001b[1;33m.\u001b[0m\u001b[0mmouseX\u001b[0m \u001b[1;33m==\u001b[0m \u001b[1;32mNone\u001b[0m \u001b[1;32mor\u001b[0m \u001b[0mself\u001b[0m\u001b[1;33m.\u001b[0m\u001b[0mmouseY\u001b[0m \u001b[1;33m==\u001b[0m \u001b[1;32mNone\u001b[0m\u001b[1;33m:\u001b[0m\u001b[1;33m\u001b[0m\u001b[1;33m\u001b[0m\u001b[0m\n\u001b[0;32m    315\u001b[0m             \u001b[0mself\u001b[0m\u001b[1;33m.\u001b[0m\u001b[0mupdate\u001b[0m\u001b[1;33m(\u001b[0m\u001b[1;33m)\u001b[0m\u001b[1;33m\u001b[0m\u001b[1;33m\u001b[0m\u001b[0m\n\u001b[1;32m--> 316\u001b[1;33m             \u001b[1;32mif\u001b[0m \u001b[0mself\u001b[0m\u001b[1;33m.\u001b[0m\u001b[0misClosed\u001b[0m\u001b[1;33m(\u001b[0m\u001b[1;33m)\u001b[0m\u001b[1;33m:\u001b[0m \u001b[1;32mraise\u001b[0m \u001b[0mGraphicsError\u001b[0m\u001b[1;33m(\u001b[0m\u001b[1;34m\"getMouse in closed window\"\u001b[0m\u001b[1;33m)\u001b[0m\u001b[1;33m\u001b[0m\u001b[1;33m\u001b[0m\u001b[0m\n\u001b[0m\u001b[0;32m    317\u001b[0m             \u001b[0mtime\u001b[0m\u001b[1;33m.\u001b[0m\u001b[0msleep\u001b[0m\u001b[1;33m(\u001b[0m\u001b[1;36m.1\u001b[0m\u001b[1;33m)\u001b[0m \u001b[1;31m# give up thread\u001b[0m\u001b[1;33m\u001b[0m\u001b[1;33m\u001b[0m\u001b[0m\n\u001b[0;32m    318\u001b[0m         \u001b[0mx\u001b[0m\u001b[1;33m,\u001b[0m\u001b[0my\u001b[0m \u001b[1;33m=\u001b[0m \u001b[0mself\u001b[0m\u001b[1;33m.\u001b[0m\u001b[0mtoWorld\u001b[0m\u001b[1;33m(\u001b[0m\u001b[0mself\u001b[0m\u001b[1;33m.\u001b[0m\u001b[0mmouseX\u001b[0m\u001b[1;33m,\u001b[0m \u001b[0mself\u001b[0m\u001b[1;33m.\u001b[0m\u001b[0mmouseY\u001b[0m\u001b[1;33m)\u001b[0m\u001b[1;33m\u001b[0m\u001b[1;33m\u001b[0m\u001b[0m\n",
      "\u001b[1;31mGraphicsError\u001b[0m: getMouse in closed window"
     ]
    }
   ],
   "source": [
    "from graphics import *\n",
    "\n",
    "\n",
    "def main() :\n",
    "    R = candidateR()\n",
    "    # for r in R :\n",
    "    win = GraphWin('CandidateR', 1000, 600) \n",
    "\n",
    "\n",
    "    line = Line(Point(100, 300), Point(900, 300))\n",
    "    line.setWidth(3)\n",
    "    line.draw(win)\n",
    "    \n",
    "    message = Text(Point(300,700), \"R\")\n",
    "    for i in range(17) :\n",
    "        I = Circle(Point(100+(i*50),300),2)\n",
    "        I.setFill(\"Black\")\n",
    "        I.draw(win)\n",
    "    message.draw(win)\n",
    "    for pt in P :\n",
    "        point = Circle(Point(100+50*pt[0],300-50*pt[1]), 2)\n",
    "        point.setFill('black')\n",
    "        point.draw(win)\n",
    "    for r in sorted(R.keys()) :\n",
    "        circles = []\n",
    "        for pt in P :\n",
    "            circle = Circle(Point(100+50*pt[0],300-50*pt[1]), 50*N(r))\n",
    "#             circle.setFill('black')\n",
    "            circle.draw(win)\n",
    "            circles.append(circle)\n",
    "        win.getMouse()\n",
    "        for c in circles :\n",
    "            c.undraw()\n",
    "        win.update()\n",
    "    win.close()\n",
    "    \n",
    "if __name__==\"__main__\":\n",
    "    main()"
   ]
  },
  {
   "cell_type": "code",
   "execution_count": 15,
   "id": "delayed-employee",
   "metadata": {
    "scrolled": true
   },
   "outputs": [
    {
     "name": "stdout",
     "output_type": "stream",
     "text": [
      "I and J are :\n",
      "[[1, 14], [2.1, 12.0], [3, 10], [4.001, 8.999], [5.4, 8.2], [6, 7.4], [11, 15], [13, 17], [17.5, 100], [18, 20], [21, 23], [24, 26], [27, 29], [28, 30], [29, 31], [30, 32], [31, 33]]\n",
      "[[6, 7.4], [5.4, 8.2], [4.001, 8.999], [3, 10], [2.1, 12.0], [1, 14], [11, 15], [13, 17], [18, 20], [21, 23], [24, 26], [27, 29], [28, 30], [29, 31], [30, 32], [31, 33], [17.5, 100]]\n",
      "---\n",
      "began\n",
      "done\n",
      "[[1, 2.1], [2.1, 3], [3, 4.001], [4.001, 5.4], [5.4, 6], [6, 7.4], [7.4, 8.2], [8.2, 8.999], [8.999, 10], [10, 11], [11, 12.0], [12.0, 13], [13, 14], [14, 15], [15, 17], [17.5, 18], [18, 20], [20, 21], [21, 23], [23, 24], [24, 26], [26, 27], [27, 28], [28, 29], [29, 29], [29, 30], [30, 30], [30, 31], [31, 31], [31, 32], [32, 33], [33, 100]]\n"
     ]
    }
   ],
   "source": [
    "# starting point < ending point assumed for intervals\n",
    "# I = np.array([[1.0,3.5,4.001,5,6,7,8.2,9.3,10.4,11,12.5]])\n",
    "# I = [[1.0,5],[3.5,6],[4.001,9.3],[7,8.2],[10.4,12.5]]\n",
    "I = [[3,10],[2.1,12.0],[6,7.4],[5.4,8.2],[4.001,8.999],[1,14],[11,15],[17.5,100],[13,17],[18,20],[21,23],[24,26],[27,29],[28,30],[29,31],[30,32],[31,33]]\n",
    "from operator import itemgetter\n",
    "# F = np.sort(I,0)\n",
    "# I[np.lexsort((I[:,1],I[:,0]))]\n",
    "J = sorted(I,key=itemgetter(1,0))\n",
    "I = sorted(I,key=itemgetter(0,1))\n",
    "\n",
    "print( \"I and J are :\")\n",
    "print(I)\n",
    "print(J)\n",
    "print(\"---\")\n",
    "\n",
    "S = []\n",
    "open_intervals = 1\n",
    "ci = 1\n",
    "cj = 0\n",
    "cs = 0\n",
    "previous = I[0][0]\n",
    "\n",
    "print(\"began\")\n",
    "\n",
    "while( ci<len(I) ) :\n",
    "    if( I[ci][0]<=J[cj][1] ) :\n",
    "        if( open_intervals>0 ) :\n",
    "            S.append([previous,I[ci][0]])\n",
    "            cs += 1\n",
    "        previous = I[ci][0]\n",
    "        ci += 1\n",
    "        open_intervals += 1\n",
    "    elif( I[ci][0]>J[cj][1] ) :\n",
    "        S.append([previous,J[cj][1]])\n",
    "        previous = J[cj][1]\n",
    "        cs += 1\n",
    "        cj += 1\n",
    "        open_intervals -= 1\n",
    "while( cj<len(J) ) :\n",
    "    S.append([previous,J[cj][1]])\n",
    "    previous = J[cj][1]\n",
    "    cs += 1\n",
    "    cj += 1\n",
    "    open_intervals -= 1\n",
    "        \n",
    "print(\"done\")\n",
    "print(S)\n"
   ]
  },
  {
   "cell_type": "code",
   "execution_count": null,
   "id": "alive-printing",
   "metadata": {},
   "outputs": [],
   "source": []
  },
  {
   "cell_type": "code",
   "execution_count": null,
   "id": "second-separation",
   "metadata": {},
   "outputs": [],
   "source": []
  },
  {
   "cell_type": "code",
   "execution_count": null,
   "id": "native-marshall",
   "metadata": {},
   "outputs": [],
   "source": []
  }
 ],
 "metadata": {
  "kernelspec": {
   "display_name": "Python 3",
   "language": "python",
   "name": "python3"
  },
  "language_info": {
   "codemirror_mode": {
    "name": "ipython",
    "version": 3
   },
   "file_extension": ".py",
   "mimetype": "text/x-python",
   "name": "python",
   "nbconvert_exporter": "python",
   "pygments_lexer": "ipython3",
   "version": "3.7.9"
  }
 },
 "nbformat": 4,
 "nbformat_minor": 5
}
